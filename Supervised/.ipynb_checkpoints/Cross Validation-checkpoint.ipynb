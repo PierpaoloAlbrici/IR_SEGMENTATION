{
 "cells": [
  {
   "cell_type": "markdown",
   "metadata": {},
   "source": [
    "# Supervised Model Cross Validation"
   ]
  },
  {
   "cell_type": "code",
   "execution_count": 1,
   "metadata": {},
   "outputs": [],
   "source": [
    "import pymongo\n",
    "import numpy as np\n",
    "import json\n",
    "import import_ipynb\n",
    "from sklearn.metrics import classification_report\n",
    "from sklearn.model_selection import train_test_split, cross_val_score\n",
    "\n",
    "%run Introduction.ipynb\n",
    "%run Background.ipynb\n",
    "%run Footnotes.ipynb\n",
    "%run Conclusion.ipynb\n",
    "\n",
    "%run Classification.ipynb"
   ]
  },
  {
   "cell_type": "code",
   "execution_count": 2,
   "metadata": {},
   "outputs": [],
   "source": [
    "#Connection to mongoDB\n",
    "client = pymongo.MongoClient(\"127.0.0.1:27017\")\n",
    "\n",
    "db = client['IRsegmentationDB']\n",
    "pDataset = db['pDataset']\n",
    "bDataset = db['bDataset']"
   ]
  },
  {
   "cell_type": "code",
   "execution_count": 9,
   "metadata": {},
   "outputs": [],
   "source": [
    "docs = [x['text'] for x in pDataset.find()][:170]\n",
    "annot = [x['annotations'] for x in pDataset.find()][:170]\n",
    "indexes = [x['doc'] for x in pDataset.find()][:170]\n",
    "\n",
    "train_size = 0.8\n",
    "random_state = 42"
   ]
  },
  {
   "cell_type": "markdown",
   "metadata": {},
   "source": [
    "### Training Functions"
   ]
  },
  {
   "cell_type": "code",
   "execution_count": null,
   "metadata": {},
   "outputs": [],
   "source": [
    "def functional_segmenter(d, a):\n",
    "    # Instatiating Introduction Classifier\n",
    "    cIntro = IntroductionClassifier(d, a)\n",
    "    cIntro.train_test_split(random_state, train_size)\n",
    "    \n",
    "    cIntro.train()\n",
    "    cIntro.test()\n",
    "    \n",
    "    # Instantiating Background Classifier\n",
    "    cBackground = BackgroundClassifier(d, a)\n",
    "    cBackground.train_test_split(random_state, train_size)\n",
    "    cBackground.train()\n",
    "    cBackground.test()\n",
    "    \n",
    "    # Instatiating Footnotes Classifier\n",
    "    cFootnotes = FootnotesClassifier(d, a)\n",
    "    cFootnotes.train_test_split(random_state, train_size)\n",
    "    cFootnotes.train()\n",
    "    cFootnotes.test()\n",
    "    \n",
    "def conclusion_recognizer(d, a):\n",
    "    cConclusion = ConclusionRecognizer(d, a)\n",
    "    cConclusion.train_test_split(random_state, train_size)\n",
    "    cConclusion.train()\n",
    "    cConclusion.test()\n",
    "    \n",
    "def testing(d, a, i):\n",
    "    classifier = Classification(d, a, i)\n",
    "    classifier.set()\n",
    "    return classifier.get_results()"
   ]
  },
  {
   "cell_type": "markdown",
   "metadata": {},
   "source": [
    "### Cross Validation"
   ]
  },
  {
   "cell_type": "code",
   "execution_count": 11,
   "metadata": {},
   "outputs": [],
   "source": [
    "dim = (round(len(docs) / 10))\n",
    "\n",
    "# Dividing in Folds\n",
    "data = []\n",
    "tmp = []\n",
    "for i in range(0, len(docs)):\n",
    "    tmp.append(i)\n",
    "    if(len(tmp) == dim or i == len(docs) - 1):\n",
    "        data.append(tmp)\n",
    "        tmp = []"
   ]
  },
  {
   "cell_type": "code",
   "execution_count": null,
   "metadata": {},
   "outputs": [
    {
     "name": "stdout",
     "output_type": "stream",
     "text": [
      "0  FOLD EVALUATION\n",
      "Start INTRODUCTION\n",
      "Start BACKGROUND\n",
      "Start FOOTNOTES\n",
      "Start CONCLUSIONS\n"
     ]
    }
   ],
   "source": [
    "res = []\n",
    "\n",
    "for i in range(0, len(data)):\n",
    "    train_t = [x for j, x in enumerate(data) if j != i]\n",
    "    train = []\n",
    "    \n",
    "    for x in train_t:\n",
    "        train.extend(x)\n",
    "        \n",
    "    docs_cv = [docs[x] for x in train]\n",
    "    annot_cv = [annot[x] for x in train]\n",
    "    indexes_cv = [indexes[x] for x in train]\n",
    "    \n",
    "    print(str(i), \" FOLD EVALUATION\")\n",
    "    \n",
    "    functional_segmenter(docs_cv, annot_cv)\n",
    "    conclusion_recognizer(docs_cv, annot_cv)\n",
    "    \n",
    "    test = data[i]\n",
    "    docs_test_cv = [docs[x] for x in test]\n",
    "    annot_test_cv = [annot[x] for x in test]\n",
    "    indexes_test_cv = [indexes[x] for x in test]\n",
    "    \n",
    "    print(\"TESTING\")\n",
    "    res.append(testing(docs_test_cv, annot_test_cv, indexes_test_cv))"
   ]
  },
  {
   "cell_type": "code",
   "execution_count": null,
   "metadata": {},
   "outputs": [],
   "source": []
  }
 ],
 "metadata": {
  "kernelspec": {
   "display_name": "Python 3",
   "language": "python",
   "name": "python3"
  },
  "language_info": {
   "codemirror_mode": {
    "name": "ipython",
    "version": 3
   },
   "file_extension": ".py",
   "mimetype": "text/x-python",
   "name": "python",
   "nbconvert_exporter": "python",
   "pygments_lexer": "ipython3",
   "version": "3.8.3"
  }
 },
 "nbformat": 4,
 "nbformat_minor": 4
}
