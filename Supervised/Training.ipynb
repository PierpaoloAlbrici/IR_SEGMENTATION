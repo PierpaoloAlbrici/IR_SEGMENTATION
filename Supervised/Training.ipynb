{
 "cells": [
  {
   "cell_type": "markdown",
   "metadata": {},
   "source": [
    "# Supervised Training"
   ]
  },
  {
   "cell_type": "code",
   "execution_count": 4,
   "metadata": {},
   "outputs": [],
   "source": [
    "import pymongo\n",
    "import numpy as np\n",
    "import json\n",
    "import import_ipynb\n",
    "from sklearn.metrics import classification_report\n",
    "from sklearn.model_selection import train_test_split, cross_val_score\n",
    "\n",
    "%run Introduction.ipynb\n",
    "%run Background.ipynb\n",
    "%run Footnotes.ipynb\n",
    "%run Conclusion.ipynb"
   ]
  },
  {
   "cell_type": "code",
   "execution_count": 5,
   "metadata": {},
   "outputs": [],
   "source": [
    "#Connection to mongoDB\n",
    "client = pymongo.MongoClient(\"127.0.0.1:27017\")\n",
    "\n",
    "db = client['IRsegmentationDB']\n",
    "pDataset = db['pDataset']\n",
    "bDataset = db['bDataset']"
   ]
  },
  {
   "cell_type": "code",
   "execution_count": 6,
   "metadata": {},
   "outputs": [],
   "source": [
    "docs = [x['text'] for x in pDataset.find()]\n",
    "annot = [x['annotations'] for x in pDataset.find()]\n",
    "\n",
    "train_size = 0.8\n",
    "random_state = 42"
   ]
  },
  {
   "cell_type": "code",
   "execution_count": 7,
   "metadata": {},
   "outputs": [],
   "source": [
    "def functional_segmenter(d, a):\n",
    "    # Instatiating Introduction Classifier\n",
    "    cIntro = IntroductionClassifier(d, a)\n",
    "    cIntro.train_test_split(random_state, train_size)\n",
    "    \n",
    "    cIntro.train()\n",
    "    cIntro.test()\n",
    "    \n",
    "    # Instantiating Background Classifier\n",
    "    cBackground = BackgroundClassifier(d, a)\n",
    "    cBackground.train_test_split(random_state, train_size)\n",
    "    cBackground.train()\n",
    "    cBackground.test()\n",
    "    \n",
    "    # Instatiating Footnotes Classifier\n",
    "    cFootnotes = FootnotesClassifier(d, a)\n",
    "    cFootnotes.train_test_split(random_state, train_size)\n",
    "    cFootnotes.train()\n",
    "    cFootnotes.test()"
   ]
  },
  {
   "cell_type": "code",
   "execution_count": 8,
   "metadata": {},
   "outputs": [],
   "source": [
    "def conclusion_recognizer(d, a):\n",
    "    cConclusion = ConclusionRecognizer(d, a)\n",
    "    cConclusion.train_test_split(random_state, train_size)\n",
    "    cConclusion.train()\n",
    "    cConclusion.test()"
   ]
  },
  {
   "cell_type": "code",
   "execution_count": 9,
   "metadata": {},
   "outputs": [
    {
     "name": "stdout",
     "output_type": "stream",
     "text": [
      "Start INTRODUCTION\n",
      "Start BACKGROUND\n",
      "Start FOOTNOTES\n",
      "Start CONCLUSIONS\n"
     ]
    }
   ],
   "source": [
    "functional_segmenter(docs, annot)\n",
    "conclusion_recognizer(docs, annot)"
   ]
  }
 ],
 "metadata": {
  "kernelspec": {
   "display_name": "Python 3",
   "language": "python",
   "name": "python3"
  },
  "language_info": {
   "codemirror_mode": {
    "name": "ipython",
    "version": 3
   },
   "file_extension": ".py",
   "mimetype": "text/x-python",
   "name": "python",
   "nbconvert_exporter": "python",
   "pygments_lexer": "ipython3",
   "version": "3.8.3"
  }
 },
 "nbformat": 4,
 "nbformat_minor": 4
}
